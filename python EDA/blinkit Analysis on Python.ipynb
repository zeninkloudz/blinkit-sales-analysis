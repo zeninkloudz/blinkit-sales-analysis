{
 "cells": [
  {
   "cell_type": "markdown",
   "id": "20bef3f7",
   "metadata": {},
   "source": [
    "# **DATA ANALYSIS ON BLINKIT DATA USING PYTHON**"
   ]
  },
  {
   "cell_type": "markdown",
   "id": "eb1e590c",
   "metadata": {},
   "source": [
    "#### **Import libraries**"
   ]
  },
  {
   "cell_type": "code",
   "execution_count": 1,
   "id": "d3ec4a93",
   "metadata": {},
   "outputs": [],
   "source": [
    "import pandas as pd\n",
    "import numpy as np\n",
    "import matplotlib.pyplot as plt\n",
    "import seaborn as sns"
   ]
  },
  {
   "cell_type": "markdown",
   "id": "c6d1e4bc",
   "metadata": {},
   "source": [
    "#### **Import Raw Data**"
   ]
  },
  {
   "cell_type": "code",
   "execution_count": null,
   "id": "0c560260",
   "metadata": {},
   "outputs": [],
   "source": []
  },
  {
   "cell_type": "code",
   "execution_count": 2,
   "id": "e8d6477f",
   "metadata": {},
   "outputs": [],
   "source": [
    "df = pd.read_csv(\"D:/zee/Blinkitproject/BlinkIT Grocery Data - BlinkIT Grocery Data.csv\")"
   ]
  },
  {
   "cell_type": "markdown",
   "id": "cd66b934",
   "metadata": {},
   "source": [
    "#### **Size of Data**"
   ]
  },
  {
   "cell_type": "code",
   "execution_count": 3,
   "id": "66918712",
   "metadata": {},
   "outputs": [
    {
     "name": "stdout",
     "output_type": "stream",
     "text": [
      "Size of Data : (8523, 12)\n"
     ]
    }
   ],
   "source": [
    "print(\"Size of Data :\",df.shape)\n"
   ]
  }
 ],
 "metadata": {
  "kernelspec": {
   "display_name": "Python 3",
   "language": "python",
   "name": "python3"
  },
  "language_info": {
   "codemirror_mode": {
    "name": "ipython",
    "version": 3
   },
   "file_extension": ".py",
   "mimetype": "text/x-python",
   "name": "python",
   "nbconvert_exporter": "python",
   "pygments_lexer": "ipython3",
   "version": "3.13.7"
  }
 },
 "nbformat": 4,
 "nbformat_minor": 5
}
